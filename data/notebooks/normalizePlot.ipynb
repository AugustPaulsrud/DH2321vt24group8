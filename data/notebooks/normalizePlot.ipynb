{
 "cells": [
  {
   "cell_type": "code",
   "execution_count": 2,
   "metadata": {},
   "outputs": [],
   "source": [
    "import pandas as pd\n",
    "import numpy as np"
   ]
  },
  {
   "cell_type": "code",
   "execution_count": 3,
   "metadata": {},
   "outputs": [],
   "source": [
    "class normalizeVector():\n",
    "    def __init__(self, vector, vector2):\n",
    "\n",
    "        self.vector = vector\n",
    "        self.refPoint = vector2\n",
    "        self.refAngle = np.arccos(np.dot(vector, self.refPoint) / (np.linalg.norm(vector) * np.linalg.norm(self.refPoint)))\n",
    "        self.refAxis = np.cross(vector, self.refPoint) \n",
    "        self.refAxis = self.refAxis / np.linalg.norm(self.refAxis)\n",
    "        self.q = np.sin(self.refAngle / 2) * self.refAxis\n",
    "        self.q = np.insert(self.q, 0, np.cos(self.refAngle / 2), axis = 0)\n",
    "        self.p = vector.values\n",
    "        self.p = np.insert(self.p, 0, 0, axis = 0)\n",
    "        self.qi = np.array([self.q[0], -self.q[1], -self.q[2], -self.q[3]], dtype=np.float64)\n",
    "\n",
    "        self.start = self.normalize()\n",
    "\n",
    "\n",
    "    def quaternion_multiply(self, quaternion1, quaternion0):\n",
    "        w0, x0, y0, z0 = quaternion0\n",
    "        w1, x1, y1, z1 = quaternion1\n",
    "        return np.array([-x1 * x0 - y1 * y0 - z1 * z0 + w1 * w0,\n",
    "                        x1 * w0 + y1 * z0 - z1 * y0 + w1 * x0,\n",
    "                        -x1 * z0 + y1 * w0 + z1 * x0 + w1 * y0,\n",
    "                        x1 * y0 - y1 * x0 + z1 * w0 + w1 * z0], dtype=np.float64)\n",
    "\n",
    "\n",
    "    def normalize(self, vector=None):\n",
    "        if vector is None:\n",
    "            vector = self.p\n",
    "        else:\n",
    "            vector = vector.values\n",
    "            vector = np.insert(vector, 0, 0, axis = 0)\n",
    "\n",
    "        result = self.quaternion_multiply(self.quaternion_multiply(self.q, vector), self.qi)[1:] \n",
    "\n",
    "        return result"
   ]
  },
  {
   "cell_type": "code",
   "execution_count": 4,
   "metadata": {},
   "outputs": [],
   "source": [
    "dataSkull = pd.read_csv(\"../listVskull.csv\")\n",
    "dataSkull.sort_index(axis=1, ascending=True, inplace=True)\n",
    "dataTree = pd.read_csv(\"../listVtree.csv\")\n",
    "dataTree.sort_index(axis=1, ascending=True, inplace=True)\n",
    "dataVent = pd.read_csv(\"../listVvent.csv\")\n",
    "dataVent.sort_index(axis=1, ascending=True, inplace=True)\n",
    "dataLow = pd.read_csv(\"../listVlow.csv\")\n",
    "dataLow.sort_index(axis=1, ascending=True, inplace=True)"
   ]
  },
  {
   "cell_type": "code",
   "execution_count": 5,
   "metadata": {},
   "outputs": [],
   "source": [
    "rotationMatrix = np.array([[np.cos(np.pi), -np.sin(np.pi), 0],\n",
    "                           [np.sin(np.pi), np.cos(np.pi), 0],\n",
    "                           [0,0,1]])\n",
    "dataSkull = (rotationMatrix @ dataSkull.T).T\n",
    "dataSkull.columns = ['X', 'Y', 'Z']\n",
    "dataTree = (rotationMatrix @ dataTree.T).T\n",
    "dataTree.columns = ['X', 'Y', 'Z']\n",
    "dataVent = (rotationMatrix @ dataVent.T).T\n",
    "dataVent.columns = ['X', 'Y', 'Z']\n",
    "dataLow = (rotationMatrix @ dataLow.T).T\n",
    "dataLow.columns = ['X', 'Y', 'Z']"
   ]
  },
  {
   "cell_type": "code",
   "execution_count": 6,
   "metadata": {},
   "outputs": [
    {
     "data": {
      "text/plain": [
       "array([143.5 ,  12.57,   3.5 ])"
      ]
     },
     "execution_count": 6,
     "metadata": {},
     "output_type": "execute_result"
    }
   ],
   "source": [
    "mid = rotationMatrix@np.array([-143.5, -12.57, 3.5])\n",
    "mid"
   ]
  },
  {
   "cell_type": "code",
   "execution_count": 7,
   "metadata": {},
   "outputs": [],
   "source": [
    "markers = np.array([[143.5, -12.57, 3.5],\n",
    "                    [145.8, 12, 3.5],\n",
    "                    [140, -68, 3.5],\n",
    "                    [185.3, -16.25, 3.5],\n",
    "                    [144, -12.61, -70]])"
   ]
  },
  {
   "cell_type": "code",
   "execution_count": 8,
   "metadata": {},
   "outputs": [
    {
     "data": {
      "text/plain": [
       "array([29.457, -4.543, 36.9  ])"
      ]
     },
     "execution_count": 8,
     "metadata": {},
     "output_type": "execute_result"
    }
   ],
   "source": [
    "dataVec = np.array([420.51,336.515,221.209]) - np.array([391.053,341.058,184.309])\n",
    "dataVec"
   ]
  },
  {
   "cell_type": "code",
   "execution_count": 9,
   "metadata": {},
   "outputs": [
    {
     "data": {
      "text/plain": [
       "array([41.8 , -3.68,  0.  ])"
      ]
     },
     "execution_count": 9,
     "metadata": {},
     "output_type": "execute_result"
    }
   ],
   "source": [
    "imgVec = markers[3] - markers[0]\n",
    "imgVec"
   ]
  },
  {
   "cell_type": "code",
   "execution_count": 10,
   "metadata": {},
   "outputs": [
    {
     "data": {
      "text/plain": [
       "array([26.05875145, -4.01890579, 32.64310447])"
      ]
     },
     "execution_count": 10,
     "metadata": {},
     "output_type": "execute_result"
    }
   ],
   "source": [
    "normalizer = normalizeVector(pd.Series(imgVec), dataVec)\n",
    "normalizer.normalize()"
   ]
  },
  {
   "cell_type": "code",
   "execution_count": 11,
   "metadata": {},
   "outputs": [
    {
     "data": {
      "text/plain": [
       "array([-0.08757785, -0.99477011, -0.05255989])"
      ]
     },
     "execution_count": 11,
     "metadata": {},
     "output_type": "execute_result"
    }
   ],
   "source": [
    "normalizer.refAxis"
   ]
  },
  {
   "cell_type": "code",
   "execution_count": 12,
   "metadata": {},
   "outputs": [],
   "source": [
    "s = dataSkull.apply(lambda x: list(normalizer.normalize(x)), axis=1)\n",
    "dataSkull = pd.DataFrame.from_dict(dict(zip(s.index, s.values))).T\n",
    "dataSkull.columns = [\"X\", \"Y\", \"Z\"]"
   ]
  },
  {
   "cell_type": "code",
   "execution_count": 13,
   "metadata": {},
   "outputs": [],
   "source": [
    "s = dataTree.apply(lambda x: list(normalizer.normalize(x)), axis=1)\n",
    "dataTree = pd.DataFrame.from_dict(dict(zip(s.index, s.values))).T\n",
    "dataTree.columns = [\"X\", \"Y\", \"Z\"]"
   ]
  },
  {
   "cell_type": "code",
   "execution_count": 14,
   "metadata": {},
   "outputs": [],
   "source": [
    "s = dataVent.apply(lambda x: list(normalizer.normalize(x)), axis=1)\n",
    "dataVent = pd.DataFrame.from_dict(dict(zip(s.index, s.values))).T\n",
    "dataVent.columns = [\"X\", \"Y\", \"Z\"]"
   ]
  },
  {
   "cell_type": "code",
   "execution_count": 15,
   "metadata": {},
   "outputs": [],
   "source": [
    "s = dataLow.apply(lambda x: list(normalizer.normalize(x)), axis=1)\n",
    "dataLow = pd.DataFrame.from_dict(dict(zip(s.index, s.values))).T\n",
    "dataLow.columns = [\"X\", \"Y\", \"Z\"]"
   ]
  },
  {
   "cell_type": "code",
   "execution_count": 16,
   "metadata": {},
   "outputs": [
    {
     "data": {
      "text/plain": [
       "array([ 88.60472616,  11.61549907, 113.03445308])"
      ]
     },
     "execution_count": 16,
     "metadata": {},
     "output_type": "execute_result"
    }
   ],
   "source": [
    "mid = normalizer.normalize(pd.Series(mid))\n",
    "mid"
   ]
  },
  {
   "cell_type": "code",
   "execution_count": 17,
   "metadata": {},
   "outputs": [
    {
     "data": {
      "text/plain": [
       "array([302.44727384, 321.44250093,  71.27434692])"
      ]
     },
     "execution_count": 17,
     "metadata": {},
     "output_type": "execute_result"
    }
   ],
   "source": [
    "offset = np.array([391.052, 333.058, 184.3088]) - mid\n",
    "offset"
   ]
  },
  {
   "cell_type": "code",
   "execution_count": 18,
   "metadata": {},
   "outputs": [],
   "source": [
    "dataSkull = dataSkull + offset\n",
    "dataTree = dataTree + offset\n",
    "dataVent = dataVent + offset\n",
    "dataLow = dataLow + offset"
   ]
  },
  {
   "cell_type": "code",
   "execution_count": 172,
   "metadata": {},
   "outputs": [],
   "source": [
    "dataSkull.to_csv(\"../../listVskull.csv\", index=False)\n",
    "dataTree.to_csv(\"../../listVtree.csv\", index=False)\n",
    "dataVent.to_csv(\"../../listVvent.csv\", index=False)\n",
    "dataLow.to_csv(\"../../listVlow.csv\", index=False)"
   ]
  },
  {
   "cell_type": "code",
   "execution_count": null,
   "metadata": {},
   "outputs": [],
   "source": []
  }
 ],
 "metadata": {
  "kernelspec": {
   "display_name": "myenv",
   "language": "python",
   "name": "python3"
  },
  "language_info": {
   "codemirror_mode": {
    "name": "ipython",
    "version": 3
   },
   "file_extension": ".py",
   "mimetype": "text/x-python",
   "name": "python",
   "nbconvert_exporter": "python",
   "pygments_lexer": "ipython3",
   "version": "3.11.7"
  }
 },
 "nbformat": 4,
 "nbformat_minor": 2
}
