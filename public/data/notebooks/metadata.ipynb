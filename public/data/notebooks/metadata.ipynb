{
 "cells": [
  {
   "cell_type": "code",
   "execution_count": 14,
   "metadata": {},
   "outputs": [],
   "source": [
    "import pandas as pd\n",
    "import sys\n",
    "sys.path.insert(1, \"../\")\n",
    "from parse import parser"
   ]
  },
  {
   "cell_type": "code",
   "execution_count": 15,
   "metadata": {},
   "outputs": [],
   "source": [
    "tsv_files = [\n",
    "    'EVDa_SimCaTip_Ale0003.tsv',\n",
    "    'EVDb_SimCaPlus_Ale0004.tsv',\n",
    "    'EVDb_SimCaPlus_Ale0005.tsv',\n",
    "    'EVDb_SimCaPlus_Mario0006.tsv',\n",
    "    'EVDb_SimCaPlus_Mario0007.tsv'\n",
    "]"
   ]
  },
  {
   "cell_type": "code",
   "execution_count": 33,
   "metadata": {},
   "outputs": [],
   "source": [
    "metadata_df = pd.DataFrame()\n",
    "\n",
    "for file in tsv_files:\n",
    "    tsv_path = f\"../tsv/{file}\"\n",
    "    \n",
    "    parse_file = parser(tsv_path)\n",
    "    parse_file.parse()\n",
    "    \n",
    "    metadata = {\n",
    "        'TSV_FILE': file,\n",
    "        'NO_OF_FRAMES': parse_file.NO_OF_FRAMES,\n",
    "        'NO_OF_CAMERAS': parse_file.NO_OF_CAMERAS,\n",
    "        'NO_OF_MARKERS': parse_file.NO_OF_MARKERS,\n",
    "        'FREQUENCY': parse_file.FREQUENCY,\n",
    "        'NO_OF_ANALOG': parse_file.NO_OF_ANALOG,\n",
    "        'ANALOG_FREQUENCY': parse_file.ANALOG_FREQUENCY,\n",
    "        'DESCRIPTION': parse_file.DESCRIPTION,\n",
    "        'TIME_STAMP': parse_file.TIME_STAMP,\n",
    "        'DATA_INCLUDED': parse_file.DATA_INCLUDED\n",
    "    }\n",
    "    \n",
    "    metadata_df = pd.concat([metadata_df, pd.DataFrame(metadata, index=[0])], ignore_index=True)\n"
   ]
  },
  {
   "cell_type": "code",
   "execution_count": 34,
   "metadata": {},
   "outputs": [],
   "source": [
    "def save_metadata_as_csv(metadata_df, output_file):\n",
    "    metadata_df.to_csv(output_file, index=False)\n",
    "\n",
    "output_file = \"metadata.csv\"\n",
    "save_metadata_as_csv(metadata_df, output_file)"
   ]
  }
 ],
 "metadata": {
  "kernelspec": {
   "display_name": "Python 3",
   "language": "python",
   "name": "python3"
  },
  "language_info": {
   "codemirror_mode": {
    "name": "ipython",
    "version": 3
   },
   "file_extension": ".py",
   "mimetype": "text/x-python",
   "name": "python",
   "nbconvert_exporter": "python",
   "pygments_lexer": "ipython3",
   "version": "3.11.8"
  }
 },
 "nbformat": 4,
 "nbformat_minor": 2
}
